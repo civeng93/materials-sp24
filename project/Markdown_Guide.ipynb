{
 "cells": [
  {
   "cell_type": "markdown",
   "id": "16e5d8ca",
   "metadata": {},
   "source": [
    "# CE 93: Engineering Data Analysis\n",
    "# Guide to Markdown Cells"
   ]
  },
  {
   "cell_type": "markdown",
   "id": "44285e88-9fa6-4c27-aadd-250b9cc3def9",
   "metadata": {},
   "source": [
    "Throughout the project notebook use Markdown cells to provide a narrative structure around your code/output and to discuss any of the results. The sections below are meant to provide you with some guidelines on how to edit Markdown cells.\n",
    "\n",
    "Text cells inside a Jupyter notebook are called Markdown cells. Markdown cells can be formatted, which means you can bold and italicize text, create headers, create bullet and numbered lists, and more.\n",
    "\n",
    "To create a new Markdown cell in Jupyter, click the `+` button in the toolbar. By default, all new cells in Jupyter start as Code cells, so the cell format needs to be changed to Markdown cell. To do this, click on the cell with your cursor to ensure it is activated. Then click on the drop-down box on the toolbar that says \"Code\", and change it from \"Code\" to \"Markdown\".\n",
    "\n",
    "<br>\n",
    "<figure>\n",
    "  <img src=\"https://datasciencebook.ca/_main_files/figure-html/convert-to-markdown-cell-1.png\" style=\"width:80%\">\n",
    "    <figcaption style=\"text-align:center\"><strong>Changing cell format to Markdown:</strong> <a href=\"https://datasciencebook.ca/_main_files/figure-html/convert-to-markdown-cell-1.png\">https://datasciencebook.ca/</a></figcaption>   \n",
    "</figure>\n",
    "\n",
    "To edit a Markdown cell in Jupyter, you need to double click on the cell. Once you do this, the unformatted version of the text will be shown. You can then use your keyboard to edit the text. To view the formatted text, click the Run (`▶`) button in the toolbar, or press <kbd>Shift</kbd>+<kbd>Enter</kbd> on the keyboard."
   ]
  },
  {
   "cell_type": "markdown",
   "id": "84d9b9c7",
   "metadata": {},
   "source": [
    "## Headings\n",
    "\n",
    "You can add headings by starting a line with one (or multiple) `#` followed by a space, as in the following example:\n",
    "\n",
    "# Header 1\n",
    "## Header 2\n",
    "### Header 3\n",
    "#### Header 4\n",
    "##### Header 5\n",
    "###### Header 6"
   ]
  },
  {
   "cell_type": "markdown",
   "id": "106d4455",
   "metadata": {},
   "source": [
    "## Text Formatting\n",
    "\n",
    "You can make text *italic*, **bold**, or ***both*** by surrounding a block of text with a single, double, or triple `*` respectively."
   ]
  },
  {
   "cell_type": "markdown",
   "id": "fbf9ed30",
   "metadata": {},
   "source": [
    "## Lists\n",
    "\n",
    "You can create an ordered list:\n",
    "\n",
    "1. Cheese\n",
    "2. Carrot\n",
    "3. Coconut \n",
    "    \n",
    "You can create an unordered list:\n",
    "\n",
    "- Cheese\n",
    "- Carrot\n",
    "- Coconut"
   ]
  },
  {
   "cell_type": "markdown",
   "id": "ae1aac8c",
   "metadata": {},
   "source": [
    "## Tables\n",
    "\n",
    "You can construct a table using `|` (pipe symbol) and `-` (dash) to mark columns and rows.\n",
    "\n",
    "| Default | Left-aligned | Center-aligned | Right-aligned |\n",
    "|---------|:-------------|:--------------:|--------------:|\n",
    "| Default | Left         | Center         | Right         |\n",
    "\n",
    "For manually changing the justification, you can use:\n",
    "\n",
    "Use :-: for centered text\n",
    "\n",
    "Use - for right centered text\n",
    "\n",
    "Use :- for left centered text"
   ]
  },
  {
   "cell_type": "markdown",
   "id": "e5731ac9",
   "metadata": {},
   "source": [
    "## Text Color\n",
    "\n",
    "You can change the text color using the following syntax:\n",
    "\n",
    "`<span style=\"color:color\">Text</span>`\n",
    "\n",
    "Where color = blue, red, green, pink, yellow\n",
    "\n",
    "<span style=\"color:blue\">This is blue text.</span>\n",
    "\n",
    "<span style=\"color:red\">This is red text.</span> Now back to black text.\n",
    "\n",
    "<span style=\"color:green\">This is green text.</span>\n",
    "\n",
    "# <span style=\"color:blue\">Blue Header 1</span>\n",
    "\n",
    "Some text.\n",
    "\n",
    "## <span style=\"color:red\">Red Header 2</span>\n",
    "\n",
    "Some text.\n",
    "\n",
    "### <span style=\"color:green\">Green Header 3</span>\n",
    "\n",
    "Some text."
   ]
  },
  {
   "cell_type": "markdown",
   "id": "55c94e5a",
   "metadata": {},
   "source": [
    "## Equations\n",
    "\n",
    "You can include mathematical expressions by surrounding the equation with `$`: $ Y = X+5 $\n",
    "\n",
    "To center the equation, use two `$$` signs at the beginning and at the end: $$ Y = X+5 $$"
   ]
  }
 ],
 "metadata": {
  "kernelspec": {
   "display_name": "Python 3 (ipykernel)",
   "language": "python",
   "name": "python3"
  },
  "language_info": {
   "codemirror_mode": {
    "name": "ipython",
    "version": 3
   },
   "file_extension": ".py",
   "mimetype": "text/x-python",
   "name": "python",
   "nbconvert_exporter": "python",
   "pygments_lexer": "ipython3",
   "version": "3.9.15"
  }
 },
 "nbformat": 4,
 "nbformat_minor": 5
}
