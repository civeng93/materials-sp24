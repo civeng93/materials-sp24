{
 "cells": [
  {
   "cell_type": "markdown",
   "id": "16e5d8ca",
   "metadata": {},
   "source": [
    "# CE 93: Engineering Data Analysis\n",
    "# Project Example"
   ]
  },
  {
   "cell_type": "markdown",
   "id": "3b9c5c62",
   "metadata": {},
   "source": [
    "**Full Name:** *replace text here*"
   ]
  },
  {
   "cell_type": "markdown",
   "id": "7c9eef7f",
   "metadata": {},
   "source": [
    "## Load the required libraries \n",
    "\n",
    "The following code loads the required libraries."
   ]
  },
  {
   "cell_type": "code",
   "execution_count": null,
   "id": "d07c86cf",
   "metadata": {},
   "outputs": [],
   "source": [
    "# import python library / packages \n",
    "import numpy as np                                 # ndarrays for gridded data\n",
    "import pandas as pd                                # DataFrames for tabular data\n",
    "import matplotlib.pyplot as plt                    # plotting\n",
    "import random                                      # random sampling\n",
    "from scipy.stats import *                          # common distributions, t-test\n",
    "import statistics as stats                         # statistics like mode\n",
    "from sklearn.linear_model import LinearRegression  # linear regression\n",
    "import statsmodels.api as sm                       # linear regression"
   ]
  },
  {
   "cell_type": "markdown",
   "id": "1d47043d",
   "metadata": {},
   "source": [
    "# Introduction \n",
    "\n",
    "It is generally agreed that weather, and particularly temperature, affect our residential electricity usage. For example, residents of hot regions generally observe higher electricity bills in the summer, which is driven by increased demand for cooling. In this report, we will examine this association between daily electric consumption and weather conditions in detail. Particularly, we will look at the effects of temperature on daily electric consumption. For this purpose, I selected two data sets: (1) my electricity usage data in Austin for 2020 and (2) weather conditions in Austin for 2020. \n",
    "\n",
    "The electricity usage data was obtained from the City of Austin Utilities Online website. Anyone can access and download their electricity usage data between any two dates in csv format. The second data set was obtained from the Weather Underground website (https://www.wunderground.com/), and includes information such as maximum, average, and minimum temperatures in °F and total precipitation in inches for each day in 2020. The main question that we will explore in this report is: does the electric consumption increase with temperature?\n",
    "\n",
    "A glimpse of the data is shown below. The variables that are particularly of interest to us are `Date`, which is the day of the year, `Electric_usage`, which is the daily electric use in kWh, and `Avg_Temp`, which is the average daily temperature in °F.\n",
    "\n",
    "These are all the features:\n",
    "\n",
    "|Feature|Units|Description|\n",
    "|:-|:-|:-|\n",
    "|Date|N/A|Day of the year|\n",
    "|Electric_usage|kWh|Total daily electric use|\n",
    "|Avg_Temp|°F|Average daily temperature|"
   ]
  },
  {
   "cell_type": "code",
   "execution_count": null,
   "id": "0f8fd3c5",
   "metadata": {},
   "outputs": [],
   "source": [
    "# read a .csv file in as a DataFrame\n",
    "df = pd.read_csv('Data.csv')\n",
    "\n",
    "# returns the first 5 rows of the data set by default\n",
    "df.head()"
   ]
  },
  {
   "cell_type": "code",
   "execution_count": null,
   "id": "59077cbe",
   "metadata": {},
   "outputs": [],
   "source": [
    "# get the shape (rows, columns)\n",
    "rows, columns = df.shape\n",
    "\n",
    "# Print the number of rows and columns\n",
    "print(f'The data set has {rows} rows corresponding to each day in 2020 and {columns} columns.')"
   ]
  }
 ],
 "metadata": {
  "kernelspec": {
   "display_name": "Python 3 (ipykernel)",
   "language": "python",
   "name": "python3"
  },
  "language_info": {
   "codemirror_mode": {
    "name": "ipython",
    "version": 3
   },
   "file_extension": ".py",
   "mimetype": "text/x-python",
   "name": "python",
   "nbconvert_exporter": "python",
   "pygments_lexer": "ipython3",
   "version": "3.9.15"
  }
 },
 "nbformat": 4,
 "nbformat_minor": 5
}
